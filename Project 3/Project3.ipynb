{
 "cells": [
  {
   "cell_type": "markdown",
   "metadata": {},
   "source": [
    "# 1. Recursive method\n",
    "***"
   ]
  },
  {
   "cell_type": "code",
   "execution_count": null,
   "metadata": {},
   "outputs": [],
   "source": [
    "%pip install recviz\n",
    "from recviz import recviz"
   ]
  },
  {
   "cell_type": "code",
   "execution_count": 40,
   "metadata": {},
   "outputs": [],
   "source": [
    "# building the recursive method\n",
    "@recviz\n",
    "def recursive_method(maximum, index, weight_list, profit_list):\n",
    "    # base case:\n",
    "    # only one element\n",
    "    if index == 0:\n",
    "        return (maximum//weight_list[0]) * profit_list[0]\n",
    "    \n",
    "    # if element at index does not occur in solution\n",
    "    not_take = 0 + recursive_method(maximum, index - 1, weight_list, profit_list)\n",
    "    # minimum value\n",
    "    take = -10000000\n",
    "    \n",
    "    # if the element at index occurs at least once in solution\n",
    "    # the current weight = current weight + weight of element\n",
    "    if weight_list[index] <= maximum:\n",
    "        take = profit_list[index] + recursive_method(maximum - weight_list[index], index, weight_list, profit_list)\n",
    "    # return the higher value between choosing to take or not to take the element\n",
    "    return max(take, not_take)"
   ]
  },
  {
   "cell_type": "code",
   "execution_count": 2,
   "metadata": {},
   "outputs": [
    {
     "name": "stdout",
     "output_type": "stream",
     "text": [
      "300\n",
      "21\n",
      "16\n"
     ]
    }
   ],
   "source": [
    "# testing\n",
    "\n",
    "def test_recursive():\n",
    "    # test 1\n",
    "    # https://www.geeksforgeeks.org/unbounded-knapsack-repetition-items-allowed/\n",
    "    weight_list = [5, 10, 15]\n",
    "    profit_list = [10, 30, 20]\n",
    "    print(recursive_method(100, len(weight_list)-1, weight_list, profit_list))\n",
    "    \n",
    "    # test actual question\n",
    "    weight_list = [4, 6, 8]\n",
    "    profit_list = [7, 6, 9]\n",
    "    print(recursive_method(14, len(weight_list)-1, weight_list, profit_list))\n",
    "    \n",
    "    # 2nd test question\n",
    "    weight_list = [5, 6, 8]\n",
    "    profit_list = [7, 6, 9]\n",
    "    print(recursive_method(14, len(weight_list)-1, weight_list, profit_list))\n",
    "    \n",
    "test_recursive()"
   ]
  },
  {
   "cell_type": "code",
   "execution_count": 41,
   "metadata": {},
   "outputs": [],
   "source": [
    "# https://www.codeburps.com/dsa/unbounded-knapsack-problem\n",
    "\n",
    "@recviz\n",
    "def recursive2_method(capacity, n, weight_list, profit_list):\n",
    "    if n == 0 or capacity == 0:\n",
    "        return 0\n",
    "\n",
    "    if weight_list[n - 1] <= capacity:\n",
    "        return max((profit_list[n - 1] + recursive2_method(capacity - weight_list[n - 1], n,weight_list, profit_list)), \n",
    "                recursive2_method(capacity, n - 1, weight_list, profit_list));\n",
    "    else:\n",
    "        return recursive2_method(capacity, n - 1, weight_list, profit_list);"
   ]
  },
  {
   "cell_type": "code",
   "execution_count": 42,
   "metadata": {},
   "outputs": [
    {
     "name": "stdout",
     "output_type": "stream",
     "text": [
      " -> recursive_method(14, 2, [4, 6, 8], [7, 6, 9])\n",
      "    -> recursive_method(14, 1, [4, 6, 8], [7, 6, 9])\n",
      "       -> recursive_method(14, 0, [4, 6, 8], [7, 6, 9])\n",
      "       <- 21\n",
      "       -> recursive_method(8, 1, [4, 6, 8], [7, 6, 9])\n",
      "          -> recursive_method(8, 0, [4, 6, 8], [7, 6, 9])\n",
      "          <- 14\n",
      "          -> recursive_method(2, 1, [4, 6, 8], [7, 6, 9])\n",
      "             -> recursive_method(2, 0, [4, 6, 8], [7, 6, 9])\n",
      "             <- 0\n",
      "          <- 0\n",
      "       <- 14\n",
      "    <- 21\n",
      "    -> recursive_method(6, 2, [4, 6, 8], [7, 6, 9])\n",
      "       -> recursive_method(6, 1, [4, 6, 8], [7, 6, 9])\n",
      "          -> recursive_method(6, 0, [4, 6, 8], [7, 6, 9])\n",
      "          <- 7\n",
      "          -> recursive_method(0, 1, [4, 6, 8], [7, 6, 9])\n",
      "             -> recursive_method(0, 0, [4, 6, 8], [7, 6, 9])\n",
      "             <- 0\n",
      "          <- 0\n",
      "       <- 7\n",
      "    <- 7\n",
      " <- 21\n",
      "21\n",
      " -> recursive2_method(14, 2, [4, 6, 8], [7, 6, 9])\n",
      "    -> recursive2_method(8, 2, [4, 6, 8], [7, 6, 9])\n",
      "       -> recursive2_method(2, 2, [4, 6, 8], [7, 6, 9])\n",
      "          -> recursive2_method(2, 1, [4, 6, 8], [7, 6, 9])\n",
      "             -> recursive2_method(2, 0, [4, 6, 8], [7, 6, 9])\n",
      "             <- 0\n",
      "          <- 0\n",
      "       <- 0\n",
      "       -> recursive2_method(8, 1, [4, 6, 8], [7, 6, 9])\n",
      "          -> recursive2_method(4, 1, [4, 6, 8], [7, 6, 9])\n",
      "             -> recursive2_method(0, 1, [4, 6, 8], [7, 6, 9])\n",
      "             <- 0\n",
      "             -> recursive2_method(4, 0, [4, 6, 8], [7, 6, 9])\n",
      "             <- 0\n",
      "          <- 7\n",
      "          -> recursive2_method(8, 0, [4, 6, 8], [7, 6, 9])\n",
      "          <- 0\n",
      "       <- 14\n",
      "    <- 14\n",
      "    -> recursive2_method(14, 1, [4, 6, 8], [7, 6, 9])\n",
      "       -> recursive2_method(10, 1, [4, 6, 8], [7, 6, 9])\n",
      "          -> recursive2_method(6, 1, [4, 6, 8], [7, 6, 9])\n",
      "             -> recursive2_method(2, 1, [4, 6, 8], [7, 6, 9])\n",
      "                -> recursive2_method(2, 0, [4, 6, 8], [7, 6, 9])\n",
      "                <- 0\n",
      "             <- 0\n",
      "             -> recursive2_method(6, 0, [4, 6, 8], [7, 6, 9])\n",
      "             <- 0\n",
      "          <- 7\n",
      "          -> recursive2_method(10, 0, [4, 6, 8], [7, 6, 9])\n",
      "          <- 0\n",
      "       <- 14\n",
      "       -> recursive2_method(14, 0, [4, 6, 8], [7, 6, 9])\n",
      "       <- 0\n",
      "    <- 21\n",
      " <- 21\n",
      "21\n"
     ]
    }
   ],
   "source": [
    "# actual running\n",
    "\n",
    "def question_recursive():\n",
    "    # actual question\n",
    "    weight_list = [4, 6, 8]\n",
    "    profit_list = [7, 6, 9]\n",
    "    print(recursive_method(14, len(weight_list)-1, weight_list, profit_list))\n",
    "question_recursive()\n",
    "\n",
    "def question_recursive2():\n",
    "    # actual question\n",
    "    weight_list = [4, 6, 8]\n",
    "    profit_list = [7, 6, 9]\n",
    "    print(recursive2_method(14, len(weight_list)-1, weight_list, profit_list))\n",
    "question_recursive2()"
   ]
  },
  {
   "cell_type": "markdown",
   "metadata": {},
   "source": [
    "***\n",
    "# 2. Knapsack method\n",
    "***"
   ]
  },
  {
   "cell_type": "code",
   "execution_count": 4,
   "metadata": {},
   "outputs": [],
   "source": [
    "# building the knapsack method\n",
    "\n",
    "def printarray(array):\n",
    "    for each in array:\n",
    "        print(each)\n",
    "\n",
    "# knapsack top-down\n",
    "# def knapsack(maximum, index, weight_list, profit_list):\n",
    "#     # dp[i] stores maximum profit for knapsack with capacity i\n",
    "#     dp = [0 for i in range(maximum + 1)]\n",
    "#     ans = 0\n",
    "#     # fill up dp with formula\n",
    "#     # for each weight until maximum:\n",
    "#         # for each possible element:\n",
    "#             # if element weight is less than leftover weight\n",
    "#                 # find out if it's worth to add or not add\n",
    "#     for i in range(maximum + 1):\n",
    "#         for j in range(index):\n",
    "#             if weight_list[j] <= i:\n",
    "#                 dp[i] = max(dp[i], dp[i-weight_list[j] + profit_list[j]])\n",
    "#     return dp[maximum]\n",
    "\n",
    "\n",
    "# knapsack bottom-up\n",
    "def knapSack(capacity, n, weights, profit):\n",
    "    K = [[0 for x in range(capacity + 1)] for x in range(n + 1)]\n",
    "    for i in range(n + 1):\n",
    "        for w in range(capacity + 1):\n",
    "            if weights[i] <= w:\n",
    "                K[i][w] = max(profit[i]+ K[i][w-weights[i]], \n",
    "                              K[i-1][w])\n",
    "            else:\n",
    "                K[i][w] = K[i-1][w]\n",
    "    printarray(K)\n",
    "    return K[n][capacity]\n",
    "\n",
    "\n",
    "# def knapSack(capacity, n, weights, profit):\n",
    "#     # dp[i] is going to store maximum\n",
    "#     # value with knapsack capacity i\n",
    "#     dp = [0 for i in range(capacity + 1)]\n",
    "#     ans = 0\n",
    "#     # fill dp[] using recursive formula\n",
    "#     for i in range(capacity + 1):\n",
    "#         for j in range(n):\n",
    "#             if (weights[j] <= i):\n",
    "#                 dp[i] = max(dp[i], dp[i - weights[j]] + profit[j])\n",
    "#     print(dp)\n",
    "#     return dp[capacity]"
   ]
  },
  {
   "cell_type": "code",
   "execution_count": 5,
   "metadata": {},
   "outputs": [
    {
     "name": "stdout",
     "output_type": "stream",
     "text": [
      "[0, 0, 0, 0, 0, 10, 10, 10, 10, 10, 20, 20, 20, 20, 20, 30, 30, 30, 30, 30, 40, 40, 40, 40, 40, 50, 50, 50, 50, 50, 60, 60, 60, 60, 60, 70, 70, 70, 70, 70, 80, 80, 80, 80, 80, 90, 90, 90, 90, 90, 100, 100, 100, 100, 100, 110, 110, 110, 110, 110, 120, 120, 120, 120, 120, 130, 130, 130, 130, 130, 140, 140, 140, 140, 140, 150, 150, 150, 150, 150, 160, 160, 160, 160, 160, 170, 170, 170, 170, 170, 180, 180, 180, 180, 180, 190, 190, 190, 190, 190, 200]\n",
      "[0, 0, 0, 0, 0, 10, 10, 10, 10, 10, 30, 30, 30, 30, 30, 40, 40, 40, 40, 40, 60, 60, 60, 60, 60, 70, 70, 70, 70, 70, 90, 90, 90, 90, 90, 100, 100, 100, 100, 100, 120, 120, 120, 120, 120, 130, 130, 130, 130, 130, 150, 150, 150, 150, 150, 160, 160, 160, 160, 160, 180, 180, 180, 180, 180, 190, 190, 190, 190, 190, 210, 210, 210, 210, 210, 220, 220, 220, 220, 220, 240, 240, 240, 240, 240, 250, 250, 250, 250, 250, 270, 270, 270, 270, 270, 280, 280, 280, 280, 280, 300]\n",
      "[0, 0, 0, 0, 0, 10, 10, 10, 10, 10, 30, 30, 30, 30, 30, 40, 40, 40, 40, 40, 60, 60, 60, 60, 60, 70, 70, 70, 70, 70, 90, 90, 90, 90, 90, 100, 100, 100, 100, 100, 120, 120, 120, 120, 120, 130, 130, 130, 130, 130, 150, 150, 150, 150, 150, 160, 160, 160, 160, 160, 180, 180, 180, 180, 180, 190, 190, 190, 190, 190, 210, 210, 210, 210, 210, 220, 220, 220, 220, 220, 240, 240, 240, 240, 240, 250, 250, 250, 250, 250, 270, 270, 270, 270, 270, 280, 280, 280, 280, 280, 300]\n",
      "300\n",
      "[0, 0, 0, 0, 7, 7, 7, 7, 14, 14, 14, 14, 21, 21, 21]\n",
      "[0, 0, 0, 0, 7, 7, 7, 7, 14, 14, 14, 14, 21, 21, 21]\n",
      "[0, 0, 0, 0, 7, 7, 7, 7, 14, 14, 14, 14, 21, 21, 21]\n",
      "21\n",
      "[0, 0, 0, 0, 0, 7, 7, 7, 7, 7, 14, 14, 14, 14, 14]\n",
      "[0, 0, 0, 0, 0, 7, 7, 7, 7, 7, 14, 14, 14, 14, 14]\n",
      "[0, 0, 0, 0, 0, 7, 7, 7, 9, 9, 14, 14, 14, 16, 16]\n",
      "16\n"
     ]
    }
   ],
   "source": [
    "# testing\n",
    "\n",
    "def test_dp():\n",
    "    # test 1\n",
    "    # https://www.geeksforgeeks.org/unbounded-knapsack-repetition-items-allowed/\n",
    "    weight_list = [5, 10, 15]\n",
    "    profit_list = [10, 30, 20]\n",
    "    print(knapSack(100, len(weight_list)-1, weight_list, profit_list))\n",
    "    \n",
    "    # test actual question\n",
    "    weight_list = [4, 6, 8]\n",
    "    profit_list = [7, 6, 9]\n",
    "    print(knapSack(14, len(weight_list)-1, weight_list, profit_list))\n",
    "    \n",
    "    weight_list = [5, 6, 8]\n",
    "    profit_list = [7, 6, 9]\n",
    "    print(knapSack(14, len(weight_list)-1, weight_list, profit_list))\n",
    "    \n",
    "test_dp()"
   ]
  },
  {
   "cell_type": "code",
   "execution_count": 6,
   "metadata": {},
   "outputs": [
    {
     "name": "stdout",
     "output_type": "stream",
     "text": [
      "Question 4 part a\n",
      "9\n",
      "[0, 0, 0, 0, 7, 7, 7, 7, 14, 14, 14, 14, 21, 21, 21]\n",
      "[0, 0, 0, 0, 7, 7, 7, 7, 14, 14, 14, 14, 21, 21, 21]\n",
      "[0, 0, 0, 0, 7, 7, 7, 7, 14, 14, 14, 14, 21, 21, 21]\n",
      "21\n",
      "\n",
      "Question 4 part b\n",
      "[0, 0, 0, 0, 0, 7, 7, 7, 7, 7, 14, 14, 14, 14, 14]\n",
      "[0, 0, 0, 0, 0, 7, 7, 7, 7, 7, 14, 14, 14, 14, 14]\n",
      "[0, 0, 0, 0, 0, 7, 7, 7, 9, 9, 14, 14, 14, 16, 16]\n",
      "16\n"
     ]
    }
   ],
   "source": [
    "# actual running\n",
    "\n",
    "def question_dp():\n",
    "    # q4a\n",
    "    print(\"Question 4 part a\")\n",
    "    weight_list = [4, 6, 8]\n",
    "    profit_list = [7, 6, 9]\n",
    "    print(profit_list[-1])\n",
    "    print(knapSack(14, len(weight_list)-1, weight_list, profit_list))\n",
    "    \n",
    "    # q4b\n",
    "    print(\"\\nQuestion 4 part b\")\n",
    "    weight_list = [5, 6, 8]\n",
    "    profit_list = [7, 6, 9]\n",
    "    print(knapSack(14, len(weight_list)-1, weight_list, profit_list))\n",
    "    \n",
    "question_dp()"
   ]
  },
  {
   "cell_type": "code",
   "execution_count": null,
   "metadata": {},
   "outputs": [],
   "source": []
  }
 ],
 "metadata": {
  "kernelspec": {
   "display_name": "Python 3.9.7",
   "language": "python",
   "name": "python3"
  },
  "language_info": {
   "codemirror_mode": {
    "name": "ipython",
    "version": 3
   },
   "file_extension": ".py",
   "mimetype": "text/x-python",
   "name": "python",
   "nbconvert_exporter": "python",
   "pygments_lexer": "ipython3",
   "version": "3.9.7"
  },
  "orig_nbformat": 4,
  "vscode": {
   "interpreter": {
    "hash": "9bc936ee5ff478d50fa25199f13fcff0aa3959f3ad3c3ff16ffbb4ba8e96fc7d"
   }
  }
 },
 "nbformat": 4,
 "nbformat_minor": 2
}
