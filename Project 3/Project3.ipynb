{
 "cells": [
  {
   "cell_type": "markdown",
   "metadata": {},
   "source": [
    "# 1. Recursive method\n",
    "***"
   ]
  },
  {
   "cell_type": "code",
   "execution_count": null,
   "metadata": {},
   "outputs": [],
   "source": [
    "# building the recursive method\n",
    "\n",
    "def recursive_method(maximum, index, weight_list, profit_list):\n",
    "    # base case:\n",
    "    # only one element\n",
    "    if index == 0:\n",
    "        return (maximum//weight_list[0]) * profit_list[0]\n",
    "    \n",
    "    # if element at index does not occur in solution\n",
    "    not_take = 0 + recursive_method(maximum, index - 1, weight_list, profit_list)\n",
    "    \n",
    "    # minimum value\n",
    "    take = -10000000\n",
    "    \n",
    "    # if the element at index occurs at least once in solution\n",
    "    # the current weight = current weight + weight of element\n",
    "    if weight_list[index] <= maximum:\n",
    "        take = profit_list[index] + recursive_method(maximum - weight_list[index], index, weight_list, profit_list)\n",
    "    \n",
    "    # return the higher value between choosing to take or not to take the element\n",
    "    return max(take, not_take)"
   ]
  },
  {
   "cell_type": "code",
   "execution_count": null,
   "metadata": {},
   "outputs": [],
   "source": [
    "# testing\n",
    "\n",
    "def test_recursive():\n",
    "    # test 1\n",
    "    # https://www.geeksforgeeks.org/unbounded-knapsack-repetition-items-allowed/\n",
    "    weight_list = [5, 10, 15]\n",
    "    profit_list = [10, 30, 20]\n",
    "    print(recursive_method(100, len(weight_list)-1, weight_list, profit_list))\n",
    "    \n",
    "    # test actual question\n",
    "    weight_list = [4, 6, 8]\n",
    "    profit_list = [7, 6, 9]\n",
    "    print(recursive_method(14, len(weight_list)-1, weight_list, profit_list))\n",
    "    \n",
    "test_recursive()"
   ]
  },
  {
   "cell_type": "code",
   "execution_count": null,
   "metadata": {},
   "outputs": [],
   "source": [
    "# actual running\n",
    "\n",
    "def question_recursive():\n",
    "    # actual question\n",
    "    weight_list = [4, 6, 8]\n",
    "    profit_list = [7, 6, 9]\n",
    "    print(recursive_method(14, len(weight_list)-1, weight_list, profit_list))\n",
    "    \n",
    "question_recursive()"
   ]
  },
  {
   "cell_type": "markdown",
   "metadata": {},
   "source": [
    "***\n",
    "# 2. Knapsack method\n",
    "***"
   ]
  },
  {
   "cell_type": "code",
   "execution_count": null,
   "metadata": {},
   "outputs": [],
   "source": [
    "# building the knapsack method\n",
    "def knapsack(maximum, index, weight_list, profit_list):\n",
    "    # dp[i] stores maximum profit for knapsack with capacity i\n",
    "    dp = [0 for i in range(maximum + 1)]\n",
    "    \n",
    "    ans = 0\n",
    "    \n",
    "    # fill up dp with formula\n",
    "    # for each weight until maximum:\n",
    "        # for each possible element:\n",
    "            # if element weight is less than leftover weight\n",
    "                # find out if it's worth to add or not add\n",
    "    for i in range(maximum + 1):\n",
    "        for j in range(index):\n",
    "            if weight_list[j] <= i:\n",
    "                dp[i] = max(dp[i], dp[i-weight_list[j] + profit_list[j]])\n",
    "    \n",
    "    return dp[maximum]"
   ]
  },
  {
   "cell_type": "code",
   "execution_count": null,
   "metadata": {},
   "outputs": [],
   "source": [
    "# testing\n",
    "\n",
    "def test_dp():\n",
    "    # test 1\n",
    "    # https://www.geeksforgeeks.org/unbounded-knapsack-repetition-items-allowed/\n",
    "    weight_list = [5, 10, 15]\n",
    "    profit_list = [10, 30, 20]\n",
    "    print(recursive_method(100, len(weight_list)-1, weight_list, profit_list))\n",
    "    \n",
    "    # test actual question\n",
    "    weight_list = [4, 6, 8]\n",
    "    profit_list = [7, 6, 9]\n",
    "    print(recursive_method(14, len(weight_list)-1, weight_list, profit_list))\n",
    "    \n",
    "test_dp()"
   ]
  },
  {
   "cell_type": "code",
   "execution_count": null,
   "metadata": {},
   "outputs": [],
   "source": [
    "# actual running\n",
    "\n",
    "def question_dp():\n",
    "    # actual question\n",
    "    weight_list = [4, 6, 8]\n",
    "    profit_list = [7, 6, 9]\n",
    "    print(recursive_method(14, len(weight_list)-1, weight_list, profit_list))\n",
    "    \n",
    "question_dp()"
   ]
  }
 ],
 "metadata": {
  "kernelspec": {
   "display_name": "Python 3.9.7 ('base')",
   "language": "python",
   "name": "python3"
  },
  "language_info": {
   "codemirror_mode": {
    "name": "ipython",
    "version": 3
   },
   "file_extension": ".py",
   "mimetype": "text/x-python",
   "name": "python",
   "nbconvert_exporter": "python",
   "pygments_lexer": "ipython3",
   "version": "3.9.7"
  },
  "orig_nbformat": 4,
  "vscode": {
   "interpreter": {
    "hash": "ac5911031131bbb6c20c46cf3f2517818ecf164a00ed6128eea5f8fed9e426fa"
   }
  }
 },
 "nbformat": 4,
 "nbformat_minor": 2
}
