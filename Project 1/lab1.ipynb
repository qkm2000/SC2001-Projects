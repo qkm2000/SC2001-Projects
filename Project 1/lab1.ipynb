{
 "cells": [
  {
   "cell_type": "markdown",
   "metadata": {},
   "source": [
    "# This is our presentation for SC2001 Lab 1 Group 7 \n",
    "***"
   ]
  },
  {
   "cell_type": "code",
   "execution_count": 1,
   "metadata": {},
   "outputs": [],
   "source": [
    "# global variable to trace the number of comparisons\n",
    "comparison = 0\n",
    "\n",
    "from random import randint\n",
    "from time import time"
   ]
  },
  {
   "cell_type": "markdown",
   "metadata": {},
   "source": [
    "***\n",
    "## Insertion Sort"
   ]
  },
  {
   "cell_type": "code",
   "execution_count": 9,
   "metadata": {},
   "outputs": [
    {
     "name": "stdout",
     "output_type": "stream",
     "text": [
      "[0, 1, 2, 3, 3, 4, 5, 7, 7, 10]\n",
      "for an array with 10 elements, the average number of comparisons is 19.0 and time taken is 0.0000\n"
     ]
    }
   ],
   "source": [
    "def insertionsort(array, l, r):\n",
    "    global comparison\n",
    "    for i in range(r):\n",
    "        temp = array[i+1]\n",
    "        j = i + 1\n",
    "        while (j > l and array[j - 1] > temp):\n",
    "            comparison += 1\n",
    "            array[j] = array[j - 1]\n",
    "            j -= 1\n",
    "        array[j] = temp\n",
    "\n",
    "def insertion_driver(number_of_elements):\n",
    "    global comparison\n",
    "    comparison = 0\n",
    "    array = []\n",
    "    for i in range(number_of_elements):\n",
    "        array.append(randint(0, number_of_elements))\n",
    "    # print(array)\n",
    "    insertionsort(array, 0, len(array)-1)\n",
    "    print(array)\n",
    "    # print(\"{} comparisons\".format(comparison))\n",
    "    \n",
    "\n",
    "def insertion_test():\n",
    "    start = time()\n",
    "    number_of_tests = 1\n",
    "    number_of_elements = 10\n",
    "    array = list()\n",
    "    global comparison\n",
    "    for i in range(number_of_tests):\n",
    "        comparison = 0\n",
    "        insertion_driver(number_of_elements)\n",
    "        array.append(comparison)\n",
    "    comparison = 0\n",
    "    \n",
    "    avg = 0\n",
    "    for i in range(number_of_tests):\n",
    "        avg += array[i]\n",
    "    avg = avg/number_of_tests\n",
    "    finaltime = (time() - start) / number_of_tests\n",
    "    print(\"for an array with {} elements, the average number of comparisons is {} and time taken is {:.4f}\".format(number_of_elements, avg, finaltime))\n",
    "    \n",
    "\n",
    "insertion_test()"
   ]
  },
  {
   "cell_type": "markdown",
   "metadata": {},
   "source": [
    "***\n",
    "## Merge Sort"
   ]
  },
  {
   "cell_type": "code",
   "execution_count": 3,
   "metadata": {},
   "outputs": [
    {
     "name": "stdout",
     "output_type": "stream",
     "text": [
      "[2, 2, 3, 4, 4, 5, 5, 8, 8, 10]\n",
      "for an array with 10 elements, the average number of comparisons is 23.0 and time taken is 0.0010\n"
     ]
    }
   ],
   "source": [
    "def merge(array, M, L):\n",
    "    global comparison\n",
    "    # iterate until either end of M or L\n",
    "    # and choose the larger elements\n",
    "    # inserting them into the right position\n",
    "    i = j = k = 0\n",
    "    while i < len(L) and j < len(M):\n",
    "        if L[i] < M[j]:\n",
    "            array[k] = L[i]\n",
    "            i += 1\n",
    "        else:\n",
    "            array[k] = M[j]\n",
    "            j += 1\n",
    "        k += 1\n",
    "        comparison += 1\n",
    "    \n",
    "    # once we hit the end of either M or L\n",
    "    while i < len(L):\n",
    "        array[k] = L[i]\n",
    "        i += 1\n",
    "        k += 1\n",
    "\n",
    "    while j < len(M):\n",
    "        array[k] = M[j]\n",
    "        j += 1\n",
    "        k += 1\n",
    "    \n",
    "    return array\n",
    "\n",
    "def mergesort(array):\n",
    "    global comparison\n",
    "    if len(array) > 1:\n",
    "        \n",
    "        # r divides the array\n",
    "        r = len(array)//2\n",
    "        L = array[:r]\n",
    "        M = array[r:]\n",
    "        \n",
    "        # recurse\n",
    "        mergesort(L)\n",
    "        mergesort(M)\n",
    "        \n",
    "        merge(array, M, L)\n",
    "        \n",
    "        return array\n",
    "\n",
    "def merge_driver(number_of_elements):\n",
    "    global comparison\n",
    "    comparison = 0\n",
    "    array = []\n",
    "    for i in range(number_of_elements):\n",
    "        array.append(randint(0, number_of_elements))\n",
    "    # print(array)\n",
    "    array = mergesort(array)\n",
    "    print(array)\n",
    "    # print(\"{} comparisons\".format(comparison))\n",
    "    \n",
    "\n",
    "def merge_test():\n",
    "    start = time()\n",
    "    number_of_tests = 1\n",
    "    number_of_elements = 10\n",
    "    array = list()\n",
    "    global comparison\n",
    "    for i in range(number_of_tests):\n",
    "        comparison = 0\n",
    "        merge_driver(number_of_elements)\n",
    "        array.append(comparison)\n",
    "    comparison = 0\n",
    "    \n",
    "    avg = 0\n",
    "    for i in range(number_of_tests):\n",
    "        avg += array[i]\n",
    "    avg = avg/number_of_tests\n",
    "    finaltime = (time() - start) / number_of_tests\n",
    "    print(\"for an array with {} elements, the average number of comparisons is {} and time taken is {:.4f}\".format(number_of_elements, avg, finaltime))\n",
    "    \n",
    "merge_test()"
   ]
  },
  {
   "cell_type": "code",
   "execution_count": 8,
   "metadata": {},
   "outputs": [
    {
     "name": "stdout",
     "output_type": "stream",
     "text": [
      "l = 0\n",
      "r = 11\n",
      "s = 11\n",
      "mid = 5\n",
      "L = [9, 4, 11, 9, 10]\n",
      "M = [2, 8, 11, 4, 3, 11]\n",
      "l = 0\n",
      "r = 5\n",
      "s = 5\n",
      "Insertionsort array = [9, 4, 11, 9, 10]\n",
      "insertisorted array = [4, 9, 9, 10, 11]\n",
      "l = 6\n",
      "r = 11\n",
      "s = 5\n",
      "Insertionsort array = []\n"
     ]
    },
    {
     "ename": "IndexError",
     "evalue": "list index out of range",
     "output_type": "error",
     "traceback": [
      "\u001b[1;31m---------------------------------------------------------------------------\u001b[0m",
      "\u001b[1;31mIndexError\u001b[0m                                Traceback (most recent call last)",
      "\u001b[1;32m~\\AppData\\Local\\Temp/ipykernel_43564/2014267060.py\u001b[0m in \u001b[0;36m<module>\u001b[1;34m\u001b[0m\n\u001b[0;32m     58\u001b[0m     \u001b[0mprint\u001b[0m\u001b[1;33m(\u001b[0m\u001b[1;34m\"for an array with {} elements, the average number of comparisons is {} and time taken is {:.4f}\"\u001b[0m\u001b[1;33m.\u001b[0m\u001b[0mformat\u001b[0m\u001b[1;33m(\u001b[0m\u001b[0mnumber_of_elements\u001b[0m\u001b[1;33m,\u001b[0m \u001b[0mavg\u001b[0m\u001b[1;33m,\u001b[0m \u001b[0mfinaltime\u001b[0m\u001b[1;33m)\u001b[0m\u001b[1;33m)\u001b[0m\u001b[1;33m\u001b[0m\u001b[1;33m\u001b[0m\u001b[0m\n\u001b[0;32m     59\u001b[0m \u001b[1;33m\u001b[0m\u001b[0m\n\u001b[1;32m---> 60\u001b[1;33m \u001b[0mIMsort_test\u001b[0m\u001b[1;33m(\u001b[0m\u001b[1;33m)\u001b[0m\u001b[1;33m\u001b[0m\u001b[1;33m\u001b[0m\u001b[0m\n\u001b[0m",
      "\u001b[1;32m~\\AppData\\Local\\Temp/ipykernel_43564/2014267060.py\u001b[0m in \u001b[0;36mIMsort_test\u001b[1;34m()\u001b[0m\n\u001b[0;32m     47\u001b[0m     \u001b[1;32mfor\u001b[0m \u001b[0mi\u001b[0m \u001b[1;32min\u001b[0m \u001b[0mrange\u001b[0m\u001b[1;33m(\u001b[0m\u001b[0mnumber_of_tests\u001b[0m\u001b[1;33m)\u001b[0m\u001b[1;33m:\u001b[0m\u001b[1;33m\u001b[0m\u001b[1;33m\u001b[0m\u001b[0m\n\u001b[0;32m     48\u001b[0m         \u001b[0mcomparison\u001b[0m \u001b[1;33m=\u001b[0m \u001b[1;36m0\u001b[0m\u001b[1;33m\u001b[0m\u001b[1;33m\u001b[0m\u001b[0m\n\u001b[1;32m---> 49\u001b[1;33m         \u001b[0mIMsort_driver\u001b[0m\u001b[1;33m(\u001b[0m\u001b[0mnumber_of_elements\u001b[0m\u001b[1;33m)\u001b[0m\u001b[1;33m\u001b[0m\u001b[1;33m\u001b[0m\u001b[0m\n\u001b[0m\u001b[0;32m     50\u001b[0m         \u001b[0marray\u001b[0m\u001b[1;33m.\u001b[0m\u001b[0mappend\u001b[0m\u001b[1;33m(\u001b[0m\u001b[0mcomparison\u001b[0m\u001b[1;33m)\u001b[0m\u001b[1;33m\u001b[0m\u001b[1;33m\u001b[0m\u001b[0m\n\u001b[0;32m     51\u001b[0m     \u001b[0mcomparison\u001b[0m \u001b[1;33m=\u001b[0m \u001b[1;36m0\u001b[0m\u001b[1;33m\u001b[0m\u001b[1;33m\u001b[0m\u001b[0m\n",
      "\u001b[1;32m~\\AppData\\Local\\Temp/ipykernel_43564/2014267060.py\u001b[0m in \u001b[0;36mIMsort_driver\u001b[1;34m(number_of_elements)\u001b[0m\n\u001b[0;32m     35\u001b[0m         \u001b[0marray\u001b[0m\u001b[1;33m.\u001b[0m\u001b[0mappend\u001b[0m\u001b[1;33m(\u001b[0m\u001b[0mrandint\u001b[0m\u001b[1;33m(\u001b[0m\u001b[1;36m0\u001b[0m\u001b[1;33m,\u001b[0m \u001b[0mnumber_of_elements\u001b[0m\u001b[1;33m)\u001b[0m\u001b[1;33m)\u001b[0m\u001b[1;33m\u001b[0m\u001b[1;33m\u001b[0m\u001b[0m\n\u001b[0;32m     36\u001b[0m     \u001b[1;31m# print(array)\u001b[0m\u001b[1;33m\u001b[0m\u001b[1;33m\u001b[0m\u001b[0m\n\u001b[1;32m---> 37\u001b[1;33m     \u001b[0mIMsort\u001b[0m\u001b[1;33m(\u001b[0m\u001b[0marray\u001b[0m\u001b[1;33m,\u001b[0m \u001b[1;36m10\u001b[0m\u001b[1;33m,\u001b[0m \u001b[1;36m0\u001b[0m\u001b[1;33m,\u001b[0m \u001b[0mlen\u001b[0m\u001b[1;33m(\u001b[0m\u001b[0marray\u001b[0m\u001b[1;33m)\u001b[0m\u001b[1;33m)\u001b[0m\u001b[1;33m\u001b[0m\u001b[1;33m\u001b[0m\u001b[0m\n\u001b[0m\u001b[0;32m     38\u001b[0m     \u001b[0mprint\u001b[0m\u001b[1;33m(\u001b[0m\u001b[0marray\u001b[0m\u001b[1;33m)\u001b[0m\u001b[1;33m\u001b[0m\u001b[1;33m\u001b[0m\u001b[0m\n\u001b[0;32m     39\u001b[0m     \u001b[1;31m# print(\"{} comparisons\".format(comparison))\u001b[0m\u001b[1;33m\u001b[0m\u001b[1;33m\u001b[0m\u001b[0m\n",
      "\u001b[1;32m~\\AppData\\Local\\Temp/ipykernel_43564/2014267060.py\u001b[0m in \u001b[0;36mIMsort\u001b[1;34m(array, threshold, l, r)\u001b[0m\n\u001b[0;32m     22\u001b[0m         \u001b[1;31m# recurse\u001b[0m\u001b[1;33m\u001b[0m\u001b[1;33m\u001b[0m\u001b[0m\n\u001b[0;32m     23\u001b[0m         \u001b[0mIMsort\u001b[0m\u001b[1;33m(\u001b[0m\u001b[0mL\u001b[0m\u001b[1;33m,\u001b[0m \u001b[0mthreshold\u001b[0m\u001b[1;33m,\u001b[0m \u001b[0ml\u001b[0m\u001b[1;33m,\u001b[0m \u001b[0mmid\u001b[0m\u001b[1;33m)\u001b[0m\u001b[1;33m\u001b[0m\u001b[1;33m\u001b[0m\u001b[0m\n\u001b[1;32m---> 24\u001b[1;33m         \u001b[0mIMsort\u001b[0m\u001b[1;33m(\u001b[0m\u001b[0mM\u001b[0m\u001b[1;33m,\u001b[0m \u001b[0mthreshold\u001b[0m\u001b[1;33m,\u001b[0m \u001b[0mmid\u001b[0m \u001b[1;33m+\u001b[0m \u001b[1;36m1\u001b[0m\u001b[1;33m,\u001b[0m \u001b[0mr\u001b[0m\u001b[1;33m)\u001b[0m\u001b[1;33m\u001b[0m\u001b[1;33m\u001b[0m\u001b[0m\n\u001b[0m\u001b[0;32m     25\u001b[0m \u001b[1;33m\u001b[0m\u001b[0m\n\u001b[0;32m     26\u001b[0m         \u001b[0mmerge\u001b[0m\u001b[1;33m(\u001b[0m\u001b[0marray\u001b[0m\u001b[1;33m,\u001b[0m \u001b[0mM\u001b[0m\u001b[1;33m,\u001b[0m \u001b[0mL\u001b[0m\u001b[1;33m)\u001b[0m\u001b[1;33m\u001b[0m\u001b[1;33m\u001b[0m\u001b[0m\n",
      "\u001b[1;32m~\\AppData\\Local\\Temp/ipykernel_43564/2014267060.py\u001b[0m in \u001b[0;36mIMsort\u001b[1;34m(array, threshold, l, r)\u001b[0m\n\u001b[0;32m      9\u001b[0m     \u001b[1;32mif\u001b[0m \u001b[0ms\u001b[0m \u001b[1;33m<=\u001b[0m \u001b[0mthreshold\u001b[0m\u001b[1;33m:\u001b[0m\u001b[1;33m\u001b[0m\u001b[1;33m\u001b[0m\u001b[0m\n\u001b[0;32m     10\u001b[0m         \u001b[0mprint\u001b[0m\u001b[1;33m(\u001b[0m\u001b[1;34m\"Insertionsort array = {}\"\u001b[0m\u001b[1;33m.\u001b[0m\u001b[0mformat\u001b[0m\u001b[1;33m(\u001b[0m\u001b[0marray\u001b[0m\u001b[1;33m[\u001b[0m\u001b[0ml\u001b[0m\u001b[1;33m:\u001b[0m\u001b[0mr\u001b[0m\u001b[1;33m]\u001b[0m\u001b[1;33m)\u001b[0m\u001b[1;33m)\u001b[0m\u001b[1;33m\u001b[0m\u001b[1;33m\u001b[0m\u001b[0m\n\u001b[1;32m---> 11\u001b[1;33m         \u001b[0marray\u001b[0m \u001b[1;33m=\u001b[0m \u001b[0minsertionsort\u001b[0m\u001b[1;33m(\u001b[0m\u001b[0marray\u001b[0m\u001b[1;33m,\u001b[0m \u001b[0ml\u001b[0m\u001b[1;33m,\u001b[0m \u001b[0mr\u001b[0m \u001b[1;33m-\u001b[0m \u001b[1;36m1\u001b[0m\u001b[1;33m)\u001b[0m\u001b[1;33m\u001b[0m\u001b[1;33m\u001b[0m\u001b[0m\n\u001b[0m\u001b[0;32m     12\u001b[0m         \u001b[0mprint\u001b[0m\u001b[1;33m(\u001b[0m\u001b[1;34m\"insertisorted array = {}\"\u001b[0m\u001b[1;33m.\u001b[0m\u001b[0mformat\u001b[0m\u001b[1;33m(\u001b[0m\u001b[0marray\u001b[0m\u001b[1;33m[\u001b[0m\u001b[0ml\u001b[0m\u001b[1;33m:\u001b[0m\u001b[0mr\u001b[0m\u001b[1;33m]\u001b[0m\u001b[1;33m)\u001b[0m\u001b[1;33m)\u001b[0m\u001b[1;33m\u001b[0m\u001b[1;33m\u001b[0m\u001b[0m\n\u001b[0;32m     13\u001b[0m     \u001b[1;32melif\u001b[0m \u001b[0mlen\u001b[0m\u001b[1;33m(\u001b[0m\u001b[0marray\u001b[0m\u001b[1;33m)\u001b[0m \u001b[1;33m>\u001b[0m \u001b[1;36m1\u001b[0m\u001b[1;33m:\u001b[0m\u001b[1;33m\u001b[0m\u001b[1;33m\u001b[0m\u001b[0m\n",
      "\u001b[1;32m~\\AppData\\Local\\Temp/ipykernel_43564/738930507.py\u001b[0m in \u001b[0;36minsertionsort\u001b[1;34m(array, l, r)\u001b[0m\n\u001b[0;32m      2\u001b[0m     \u001b[1;32mglobal\u001b[0m \u001b[0mcomparison\u001b[0m\u001b[1;33m\u001b[0m\u001b[1;33m\u001b[0m\u001b[0m\n\u001b[0;32m      3\u001b[0m     \u001b[1;32mfor\u001b[0m \u001b[0mi\u001b[0m \u001b[1;32min\u001b[0m \u001b[0mrange\u001b[0m\u001b[1;33m(\u001b[0m\u001b[0mr\u001b[0m\u001b[1;33m)\u001b[0m\u001b[1;33m:\u001b[0m\u001b[1;33m\u001b[0m\u001b[1;33m\u001b[0m\u001b[0m\n\u001b[1;32m----> 4\u001b[1;33m         \u001b[0mtemp\u001b[0m \u001b[1;33m=\u001b[0m \u001b[0marray\u001b[0m\u001b[1;33m[\u001b[0m\u001b[0mi\u001b[0m\u001b[1;33m+\u001b[0m\u001b[1;36m1\u001b[0m\u001b[1;33m]\u001b[0m\u001b[1;33m\u001b[0m\u001b[1;33m\u001b[0m\u001b[0m\n\u001b[0m\u001b[0;32m      5\u001b[0m         \u001b[0mj\u001b[0m \u001b[1;33m=\u001b[0m \u001b[0mi\u001b[0m \u001b[1;33m+\u001b[0m \u001b[1;36m1\u001b[0m\u001b[1;33m\u001b[0m\u001b[1;33m\u001b[0m\u001b[0m\n\u001b[0;32m      6\u001b[0m         \u001b[1;32mwhile\u001b[0m \u001b[1;33m(\u001b[0m\u001b[0mj\u001b[0m \u001b[1;33m>\u001b[0m \u001b[0ml\u001b[0m \u001b[1;32mand\u001b[0m \u001b[0marray\u001b[0m\u001b[1;33m[\u001b[0m\u001b[0mj\u001b[0m \u001b[1;33m-\u001b[0m \u001b[1;36m1\u001b[0m\u001b[1;33m]\u001b[0m \u001b[1;33m>\u001b[0m \u001b[0mtemp\u001b[0m\u001b[1;33m)\u001b[0m\u001b[1;33m:\u001b[0m\u001b[1;33m\u001b[0m\u001b[1;33m\u001b[0m\u001b[0m\n",
      "\u001b[1;31mIndexError\u001b[0m: list index out of range"
     ]
    }
   ],
   "source": [
    "def IMsort(array, threshold, l, r):\n",
    "    global comparison\n",
    "    # s = elements left\n",
    "    s = r - l\n",
    "    print(\"l = {}\".format(l))\n",
    "    print(\"r = {}\".format(r))\n",
    "    print(\"s = {}\".format(s))\n",
    "    \n",
    "    if s <= threshold:\n",
    "        print(\"Insertionsort array = {}\".format(array[l:r]))\n",
    "        insertionsort(array, l, r - 1)\n",
    "        print(\"insertisorted array = {}\".format(array[l:r]))\n",
    "    elif len(array) > 1:       \n",
    "        # r divides the array\n",
    "        mid = s//2\n",
    "        print(\"mid = {}\".format(mid))\n",
    "        L = array[:mid]\n",
    "        print(\"L = {}\".format(L))\n",
    "        M = array[mid:]\n",
    "        print(\"M = {}\".format(M))\n",
    "        \n",
    "        # recurse\n",
    "        IMsort(L, threshold, l, mid)\n",
    "        IMsort(M, threshold, mid + 1, r)\n",
    "        \n",
    "        merge(array, M, L)\n",
    "        \n",
    "        return array\n",
    "\n",
    "def IMsort_driver(number_of_elements):\n",
    "    global comparison\n",
    "    comparison = 0\n",
    "    array = []\n",
    "    for i in range(number_of_elements):\n",
    "        array.append(randint(0, number_of_elements))\n",
    "    # print(array)\n",
    "    IMsort(array, 10, 0, len(array))\n",
    "    print(array)\n",
    "    # print(\"{} comparisons\".format(comparison))\n",
    "    \n",
    "def IMsort_test():\n",
    "    start = time()\n",
    "    number_of_tests = 1\n",
    "    number_of_elements = 11\n",
    "    array = list()\n",
    "    global comparison\n",
    "    for i in range(number_of_tests):\n",
    "        comparison = 0\n",
    "        IMsort_driver(number_of_elements)\n",
    "        array.append(comparison)\n",
    "    comparison = 0\n",
    "    \n",
    "    avg = 0\n",
    "    for i in range(number_of_tests):\n",
    "        avg += array[i]\n",
    "    avg = avg/number_of_tests\n",
    "    finaltime = (time() - start) / number_of_tests\n",
    "    print(\"for an array with {} elements, the average number of comparisons is {} and time taken is {:.4f}\".format(number_of_elements, avg, finaltime))\n",
    "\n",
    "IMsort_test()"
   ]
  },
  {
   "cell_type": "code",
   "execution_count": 5,
   "metadata": {},
   "outputs": [],
   "source": [
    "def main():\n",
    "    return"
   ]
  },
  {
   "cell_type": "code",
   "execution_count": 6,
   "metadata": {},
   "outputs": [],
   "source": [
    "main()"
   ]
  }
 ],
 "metadata": {
  "kernelspec": {
   "display_name": "Python 3.9.7",
   "language": "python",
   "name": "python3"
  },
  "language_info": {
   "codemirror_mode": {
    "name": "ipython",
    "version": 3
   },
   "file_extension": ".py",
   "mimetype": "text/x-python",
   "name": "python",
   "nbconvert_exporter": "python",
   "pygments_lexer": "ipython3",
   "version": "3.9.7"
  },
  "orig_nbformat": 4,
  "vscode": {
   "interpreter": {
    "hash": "9bc936ee5ff478d50fa25199f13fcff0aa3959f3ad3c3ff16ffbb4ba8e96fc7d"
   }
  }
 },
 "nbformat": 4,
 "nbformat_minor": 2
}
