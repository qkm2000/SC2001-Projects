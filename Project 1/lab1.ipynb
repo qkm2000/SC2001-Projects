{
 "cells": [
  {
   "cell_type": "markdown",
   "metadata": {},
   "source": [
    "# This is our presentation for SC2001 Lab 1 Group 7 \n",
    "***"
   ]
  },
  {
   "cell_type": "code",
   "execution_count": 1,
   "metadata": {},
   "outputs": [],
   "source": [
    "# global variable to trace the number of comparisons\n",
    "comparison = 0\n",
    "\n",
    "from random import randint\n",
    "from time import time"
   ]
  },
  {
   "cell_type": "markdown",
   "metadata": {},
   "source": [
    "***\n",
    "## Insertion Sort"
   ]
  },
  {
   "cell_type": "code",
   "execution_count": 2,
   "metadata": {},
   "outputs": [
    {
     "name": "stdout",
     "output_type": "stream",
     "text": [
      "for an array with 1000 elements, the average number of comparisons is 257133.0 and time taken is 0.0475\n"
     ]
    }
   ],
   "source": [
    "def insertionsort(array, l, r):\n",
    "    global comparison\n",
    "    for i in range(r):\n",
    "        temp = array[i+1]\n",
    "        j = i + 1\n",
    "        while (j > l and array[j - 1] > temp):\n",
    "            comparison += 1\n",
    "            array[j] = array[j - 1]\n",
    "            j -= 1\n",
    "        array[j] = temp\n",
    "    return array\n",
    "\n",
    "def insertion_driver(number_of_elements):\n",
    "    global comparison\n",
    "    comparison = 0\n",
    "    array = []\n",
    "    for i in range(number_of_elements):\n",
    "        array.append(randint(0, number_of_elements))\n",
    "    # print(array)\n",
    "    array = insertionsort(array, 0, len(array)-1)\n",
    "    # print(array)\n",
    "    # print(\"{} comparisons\".format(comparison))\n",
    "    \n",
    "\n",
    "def insertion_test():\n",
    "    start = time()\n",
    "    number_of_tests = 1\n",
    "    number_of_elements = 1000\n",
    "    array = list()\n",
    "    global comparison\n",
    "    for i in range(number_of_tests):\n",
    "        comparison = 0\n",
    "        insertion_driver(number_of_elements)\n",
    "        array.append(comparison)\n",
    "    comparison = 0\n",
    "    \n",
    "    avg = 0\n",
    "    for i in range(number_of_tests):\n",
    "        avg += array[i]\n",
    "    avg = avg/number_of_tests\n",
    "    finaltime = (time() - start) / number_of_tests\n",
    "    print(\"for an array with {} elements, the average number of comparisons is {} and time taken is {:.4f}\".format(number_of_elements, avg, finaltime))\n",
    "    \n",
    "\n",
    "insertion_test()"
   ]
  },
  {
   "cell_type": "markdown",
   "metadata": {},
   "source": [
    "***\n",
    "## Merge Sort"
   ]
  },
  {
   "cell_type": "code",
   "execution_count": 3,
   "metadata": {},
   "outputs": [
    {
     "name": "stdout",
     "output_type": "stream",
     "text": [
      "for an array with 100000 elements, the average number of comparisons is 1536572.0 and time taken is 0.4905\n"
     ]
    }
   ],
   "source": [
    "def merge(array, M, L):\n",
    "    global comparison\n",
    "    # iterate until either end of M or L\n",
    "    # and choose the larger elements\n",
    "    # inserting them into the right position\n",
    "    i = j = k = 0\n",
    "    while i < len(L) and j < len(M):\n",
    "        if L[i] < M[j]:\n",
    "            array[k] = L[i]\n",
    "            i += 1\n",
    "        else:\n",
    "            array[k] = M[j]\n",
    "            j += 1\n",
    "        k += 1\n",
    "        comparison += 1\n",
    "    \n",
    "    # once we hit the end of either M or L\n",
    "    while i < len(L):\n",
    "        array[k] = L[i]\n",
    "        i += 1\n",
    "        k += 1\n",
    "\n",
    "    while j < len(M):\n",
    "        array[k] = M[j]\n",
    "        j += 1\n",
    "        k += 1\n",
    "    \n",
    "    return array\n",
    "\n",
    "def mergesort(array):\n",
    "    global comparison\n",
    "    if len(array) > 1:\n",
    "        \n",
    "        # r divides the array\n",
    "        r = len(array)//2\n",
    "        L = array[:r]\n",
    "        M = array[r:]\n",
    "        \n",
    "        # recurse\n",
    "        mergesort(L)\n",
    "        mergesort(M)\n",
    "        \n",
    "        array = merge(array, M, L)\n",
    "\n",
    "def merge_driver(number_of_elements):\n",
    "    global comparison\n",
    "    comparison = 0\n",
    "    array = []\n",
    "    for i in range(number_of_elements):\n",
    "        array.append(randint(0, number_of_elements))\n",
    "    # print(array)\n",
    "    array = mergesort(array)\n",
    "    # print(array)\n",
    "    # print(\"{} comparisons\".format(comparison))\n",
    "    \n",
    "\n",
    "def merge_test():\n",
    "    start = time()\n",
    "    number_of_tests = 1\n",
    "    number_of_elements = 100000\n",
    "    array = list()\n",
    "    global comparison\n",
    "    for i in range(number_of_tests):\n",
    "        comparison = 0\n",
    "        merge_driver(number_of_elements)\n",
    "        array.append(comparison)\n",
    "    comparison = 0\n",
    "    \n",
    "    avg = 0\n",
    "    for i in range(number_of_tests):\n",
    "        avg += array[i]\n",
    "    avg = avg/number_of_tests\n",
    "    finaltime = (time() - start) / number_of_tests\n",
    "    print(\"for an array with {} elements, the average number of comparisons is {} and time taken is {:.4f}\".format(number_of_elements, avg, finaltime))\n",
    "    \n",
    "merge_test()"
   ]
  },
  {
   "cell_type": "code",
   "execution_count": 4,
   "metadata": {},
   "outputs": [
    {
     "name": "stdout",
     "output_type": "stream",
     "text": [
      "11\n",
      "5\n",
      "11\n",
      "2\n",
      "11\n",
      "1\n",
      "11\n",
      "-11\n",
      "-10\n",
      "-7\n",
      "[6, 8, 9, 11, 0, 0, 9, 9, 11, 0, 11]\n"
     ]
    }
   ],
   "source": [
    "def IMsort(array, threshold, l, r):\n",
    "    global comparison\n",
    "    # s = elements left\n",
    "    s = r - l\n",
    "    print(s)\n",
    "    \n",
    "    if s <= threshold:\n",
    "        insertionsort(array, l, r-1)\n",
    "        return\n",
    "    elif len(array) > 1:       \n",
    "        # r divides the array\n",
    "        r = len(array)//2\n",
    "        print(r)\n",
    "        L = array[:r]\n",
    "        M = array[r:]\n",
    "        \n",
    "        # recurse\n",
    "        IMsort(L, threshold, l, s)\n",
    "        IMsort(M, threshold, s + 1, r)\n",
    "        \n",
    "        array = merge(array, M, L)\n",
    "\n",
    "def IMsort_driver(number_of_elements):\n",
    "    global comparison\n",
    "    comparison = 0\n",
    "    array = []\n",
    "    for i in range(number_of_elements):\n",
    "        array.append(randint(0, number_of_elements))\n",
    "    # print(array)\n",
    "    IMsort(array, 10, 0, len(array))\n",
    "    print(array)\n",
    "    # print(\"{} comparisons\".format(comparison))\n",
    "\n",
    "IMsort_driver(11)\n",
    "    \n",
    "def IMsort_test():\n",
    "    start = time()\n",
    "    number_of_tests = 1\n",
    "    number_of_elements = 100000\n",
    "    array = list()\n",
    "    global comparison\n",
    "    for i in range(number_of_tests):\n",
    "        comparison = 0\n",
    "        IMsort_driver(number_of_elements)\n",
    "        array.append(comparison)\n",
    "    comparison = 0\n",
    "    \n",
    "    avg = 0\n",
    "    for i in range(number_of_tests):\n",
    "        avg += array[i]\n",
    "    avg = avg/number_of_tests\n",
    "    finaltime = (time() - start) / number_of_tests\n",
    "    print(\"for an array with {} elements, the average number of comparisons is {} and time taken is {:.4f}\".format(number_of_elements, avg, finaltime))\n",
    "\n",
    "# IMsort_test()"
   ]
  },
  {
   "cell_type": "code",
   "execution_count": 5,
   "metadata": {},
   "outputs": [],
   "source": [
    "def main():\n",
    "    return"
   ]
  },
  {
   "cell_type": "code",
   "execution_count": 6,
   "metadata": {},
   "outputs": [],
   "source": [
    "main()"
   ]
  }
 ],
 "metadata": {
  "kernelspec": {
   "display_name": "Python 3.9.7",
   "language": "python",
   "name": "python3"
  },
  "language_info": {
   "codemirror_mode": {
    "name": "ipython",
    "version": 3
   },
   "file_extension": ".py",
   "mimetype": "text/x-python",
   "name": "python",
   "nbconvert_exporter": "python",
   "pygments_lexer": "ipython3",
   "version": "3.9.7"
  },
  "orig_nbformat": 4,
  "vscode": {
   "interpreter": {
    "hash": "9bc936ee5ff478d50fa25199f13fcff0aa3959f3ad3c3ff16ffbb4ba8e96fc7d"
   }
  }
 },
 "nbformat": 4,
 "nbformat_minor": 2
}
