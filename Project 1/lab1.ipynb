{
 "cells": [
  {
   "cell_type": "markdown",
   "metadata": {},
   "source": [
    "# This is our presentation for SC2001 Lab 1 Group 7 \n",
    "***"
   ]
  },
  {
   "cell_type": "code",
   "execution_count": 1,
   "metadata": {},
   "outputs": [],
   "source": [
    "# global variable to trace the number of comparisons\n",
    "comparison = 0"
   ]
  },
  {
   "cell_type": "code",
   "execution_count": 16,
   "metadata": {},
   "outputs": [
    {
     "name": "stdout",
     "output_type": "stream",
     "text": [
      "for an array with 1000 elements, the average number of comparisons is 249919.0\n"
     ]
    }
   ],
   "source": [
    "from random import randint\n",
    "from time import time\n",
    "\n",
    "def insertionsort(array, l, r):\n",
    "    global comparison\n",
    "    for i in range(r):\n",
    "        temp = array[i+1]\n",
    "        j = i + 1\n",
    "        while (j > l and array[j - 1] > temp):\n",
    "            comparison += 1\n",
    "            array[j] = array[j - 1]\n",
    "            j -= 1\n",
    "        array[j] = temp\n",
    "    return array\n",
    "\n",
    "def testinsertion(number_of_elements):\n",
    "    global comparison\n",
    "    comparison = 0\n",
    "    array = []\n",
    "    for i in range(number_of_elements):\n",
    "        array.append(randint(0, number_of_elements))\n",
    "    # print(array)\n",
    "    array = insertionsort(array, 0, len(array)-1)\n",
    "    # print(array)\n",
    "    # print(\"{} comparisons\".format(comparison))\n",
    "    \n",
    "\n",
    "def longtest():\n",
    "    number_of_tests = 100\n",
    "    number_of_elements = 1000\n",
    "    array = list()\n",
    "    global comparison\n",
    "    for i in range(number_of_tests):\n",
    "        comparison = 0\n",
    "        testinsertion(number_of_elements)\n",
    "        array.append(comparison)\n",
    "    comparison = 0\n",
    "    \n",
    "    avg = 0\n",
    "    for i in range(number_of_tests):\n",
    "        avg += array[i]\n",
    "    avg = avg/number_of_tests\n",
    "    print(\"for an array with {} elements, the average number of comparisons is {}\".format(number_of_elements, avg))\n",
    "    \n",
    "\n",
    "longtest()"
   ]
  },
  {
   "cell_type": "code",
   "execution_count": null,
   "metadata": {},
   "outputs": [],
   "source": [
    "def mergesort(array, left, right):\n",
    "    if left < right:\n",
    "        mid = left + (right - left) / 2\n",
    "        \n",
    "        mergesort(array, left, mid)\n",
    "        mergesort(array, mid + 1, right)\n",
    "        \n",
    "        merge(array, left, mid, right)\n",
    "\n",
    "def merge(array, left, mid, right):\n",
    "    n1 = mid - left + 1\n",
    "    n2 = right - mid\n",
    "    \n",
    "    \n",
    "\n",
    "# private void merge(int arr[], int l, int m, int r) {\n",
    "#         int n1 = m - l + 1;\n",
    "#         int n2 = r - m;\n",
    "\n",
    "#         int L[] = new int[n1];\n",
    "#         int R[] = new int[n2];\n",
    "\n",
    "#         for (int i = 0; i < n1; ++i)\n",
    "#             L[i] = arr[l + i];\n",
    "#         for (int j = 0; j < n2; ++j)\n",
    "#             R[j] = arr[m + 1 + j];\n",
    "\n",
    "#         int i = 0, j = 0;\n",
    "\n",
    "#         int k = l;\n",
    "#         while (i < n1 && j < n2) {\n",
    "#             if (L[i] <= R[j]) {\n",
    "#                 arr[k] = L[i];\n",
    "#                 i++;\n",
    "#             } else {\n",
    "#                 arr[k] = R[j];\n",
    "#                 j++;\n",
    "#             }\n",
    "#             k++;\n",
    "#             keyComparisonCounter++;\n",
    "#         }\n",
    "\n",
    "#         while (i < n1) {\n",
    "#             arr[k] = L[i];\n",
    "#             i++;\n",
    "#             k++;\n",
    "#         }\n",
    "\n",
    "#         while (j < n2) {\n",
    "#             arr[k] = R[j];\n",
    "#             j++;\n",
    "#             k++;\n",
    "#         }\n",
    "#     }"
   ]
  },
  {
   "cell_type": "code",
   "execution_count": null,
   "metadata": {},
   "outputs": [],
   "source": [
    "def IMsort():\n",
    "    return"
   ]
  },
  {
   "cell_type": "code",
   "execution_count": null,
   "metadata": {},
   "outputs": [],
   "source": [
    "def main():\n",
    "    return"
   ]
  },
  {
   "cell_type": "code",
   "execution_count": null,
   "metadata": {},
   "outputs": [],
   "source": [
    "main()"
   ]
  }
 ],
 "metadata": {
  "kernelspec": {
   "display_name": "Python 3.8.8 ('base')",
   "language": "python",
   "name": "python3"
  },
  "language_info": {
   "codemirror_mode": {
    "name": "ipython",
    "version": 3
   },
   "file_extension": ".py",
   "mimetype": "text/x-python",
   "name": "python",
   "nbconvert_exporter": "python",
   "pygments_lexer": "ipython3",
   "version": "3.8.8"
  },
  "orig_nbformat": 4,
  "vscode": {
   "interpreter": {
    "hash": "25cb2dd36c8d5245723885b9a112f13605dd35ff8fb5fab271c6a70aa998b368"
   }
  }
 },
 "nbformat": 4,
 "nbformat_minor": 2
}
