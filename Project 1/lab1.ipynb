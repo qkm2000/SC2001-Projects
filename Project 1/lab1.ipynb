{
 "cells": [
  {
   "cell_type": "markdown",
   "metadata": {},
   "source": [
    "# This is our presentation for SC2001 Lab 1 Group 7 \n",
    "***"
   ]
  },
  {
   "cell_type": "code",
   "execution_count": 1,
   "metadata": {},
   "outputs": [],
   "source": [
    "# global variable to trace the number of comparisons\n",
    "comparison = 0\n",
    "\n",
    "from random import randint\n",
    "from time import time"
   ]
  },
  {
   "cell_type": "markdown",
   "metadata": {},
   "source": [
    "***\n",
    "## Insertion Sort"
   ]
  },
  {
   "cell_type": "code",
   "execution_count": 2,
   "metadata": {},
   "outputs": [],
   "source": [
    "def insertionsort(array, l, r):\n",
    "    global comparison\n",
    "    for i in range(r):\n",
    "        temp = array[i+1]\n",
    "        j = i + 1\n",
    "        while (j > l and array[j - 1] > temp):\n",
    "            comparison += 1\n",
    "            array[j] = array[j - 1]\n",
    "            j -= 1\n",
    "        array[j] = temp\n",
    "    return array\n",
    "\n",
    "def insertion_driver(number_of_elements):\n",
    "    global comparison\n",
    "    comparison = 0\n",
    "    array = []\n",
    "    for i in range(number_of_elements):\n",
    "        array.append(randint(0, number_of_elements))\n",
    "    # print(array)\n",
    "    array = insertionsort(array, 0, len(array)-1)\n",
    "    # print(array)\n",
    "    # print(\"{} comparisons\".format(comparison))\n",
    "    \n",
    "\n",
    "def insertion_test():\n",
    "    start = time()\n",
    "    number_of_tests = 1\n",
    "    number_of_elements = 1000\n",
    "    array = list()\n",
    "    global comparison\n",
    "    for i in range(number_of_tests):\n",
    "        comparison = 0\n",
    "        insertion_driver(number_of_elements)\n",
    "        array.append(comparison)\n",
    "    comparison = 0\n",
    "    \n",
    "    avg = 0\n",
    "    for i in range(number_of_tests):\n",
    "        avg += array[i]\n",
    "    avg = avg/number_of_tests\n",
    "    finaltime = (time() - start) / number_of_tests\n",
    "    print(\"for an array with {} elements, the average number of comparisons is {} and time taken is {:.4f}\".format(number_of_elements, avg, finaltime))\n",
    "    \n",
    "\n",
    "# insertion_test()"
   ]
  },
  {
   "cell_type": "markdown",
   "metadata": {},
   "source": [
    "***\n",
    "## Merge Sort"
   ]
  },
  {
   "cell_type": "code",
   "execution_count": 4,
   "metadata": {},
   "outputs": [
    {
     "name": "stdout",
     "output_type": "stream",
     "text": [
      "for an array with 100000 elements, the average number of comparisons is 1536466.0 and time taken is 0.8320\n"
     ]
    }
   ],
   "source": [
    "def merge(array, M, L):\n",
    "    global comparison\n",
    "    # iterate until either end of M or L\n",
    "    # and choose the larger elements\n",
    "    # inserting them into the right position\n",
    "    i = j = k = 0\n",
    "    while i < len(L) and j < len(M):\n",
    "        if L[i] < M[j]:\n",
    "            array[k] = L[i]\n",
    "            i += 1\n",
    "        else:\n",
    "            array[k] = M[j]\n",
    "            j += 1\n",
    "        k += 1\n",
    "        comparison += 1\n",
    "    \n",
    "    # once we hit the end of either M or L\n",
    "    while i < len(L):\n",
    "        array[k] = L[i]\n",
    "        i += 1\n",
    "        k += 1\n",
    "\n",
    "    while j < len(M):\n",
    "        array[k] = M[j]\n",
    "        j += 1\n",
    "        k += 1\n",
    "    \n",
    "    return array\n",
    "\n",
    "def mergesort(array):\n",
    "    global comparison\n",
    "    if len(array) > 1:\n",
    "        \n",
    "        # r divides the array\n",
    "        r = len(array)//2\n",
    "        L = array[:r]\n",
    "        M = array[r:]\n",
    "        \n",
    "        # recurse\n",
    "        mergesort(L)\n",
    "        mergesort(M)\n",
    "        \n",
    "        array = merge(array, M, L)\n",
    "\n",
    "def merge_driver(number_of_elements):\n",
    "    global comparison\n",
    "    comparison = 0\n",
    "    array = []\n",
    "    for i in range(number_of_elements):\n",
    "        array.append(randint(0, number_of_elements))\n",
    "    # print(array)\n",
    "    array = mergesort(array)\n",
    "    # print(array)\n",
    "    # print(\"{} comparisons\".format(comparison))\n",
    "    \n",
    "\n",
    "def merge_test():\n",
    "    start = time()\n",
    "    number_of_tests = 1\n",
    "    number_of_elements = 100000\n",
    "    array = list()\n",
    "    global comparison\n",
    "    for i in range(number_of_tests):\n",
    "        comparison = 0\n",
    "        merge_driver(number_of_elements)\n",
    "        array.append(comparison)\n",
    "    comparison = 0\n",
    "    \n",
    "    avg = 0\n",
    "    for i in range(number_of_tests):\n",
    "        avg += array[i]\n",
    "    avg = avg/number_of_tests\n",
    "    finaltime = (time() - start) / number_of_tests\n",
    "    print(\"for an array with {} elements, the average number of comparisons is {} and time taken is {:.4f}\".format(number_of_elements, avg, finaltime))\n",
    "    \n",
    "merge_test()"
   ]
  },
  {
   "cell_type": "code",
   "execution_count": 10,
   "metadata": {},
   "outputs": [
    {
     "ename": "",
     "evalue": "",
     "output_type": "error",
     "traceback": [
      "\u001b[1;31mCanceled future for execute_request message before replies were done"
     ]
    },
    {
     "ename": "",
     "evalue": "",
     "output_type": "error",
     "traceback": [
      "\u001b[1;31mThe Kernel crashed while executing code in the the current cell or a previous cell. Please review the code in the cell(s) to identify a possible cause of the failure. Click <a href='https://aka.ms/vscodeJupyterKernelCrash'>here</a> for more info. View Jupyter <a href='command:jupyter.viewOutput'>log</a> for further details."
     ]
    }
   ],
   "source": [
    "def IMsort(array, threshold, l, r):\n",
    "    s = r - l\n",
    "    if s <= threshold:\n",
    "        insertionsort(array, l, r)\n",
    "        return\n",
    "    if l < s:\n",
    "        r = len(array)//2\n",
    "        L = array[:s]\n",
    "        M = array[s:]\n",
    "        \n",
    "        # recurse\n",
    "        IMsort(L, threshold, l, s)\n",
    "        IMsort(M, threshold, s + 1, r)\n",
    "        \n",
    "        array = merge(array, M, L)\n",
    "\n",
    "def IMsort_driver(number_of_elements):\n",
    "    global comparison\n",
    "    comparison = 0\n",
    "    array = []\n",
    "    for i in range(number_of_elements):\n",
    "        array.append(randint(0, number_of_elements))\n",
    "    # print(array)\n",
    "    array = IMsort(array, 32, 0, len(array))\n",
    "    # print(array)\n",
    "    # print(\"{} comparisons\".format(comparison))\n",
    "    \n",
    "\n",
    "def IMsort_test():\n",
    "    start = time()\n",
    "    number_of_tests = 1\n",
    "    number_of_elements = 100000\n",
    "    array = list()\n",
    "    global comparison\n",
    "    for i in range(number_of_tests):\n",
    "        comparison = 0\n",
    "        IMsort_driver(number_of_elements)\n",
    "        array.append(comparison)\n",
    "    comparison = 0\n",
    "    \n",
    "    avg = 0\n",
    "    for i in range(number_of_tests):\n",
    "        avg += array[i]\n",
    "    avg = avg/number_of_tests\n",
    "    finaltime = (time() - start) / number_of_tests\n",
    "    print(\"for an array with {} elements, the average number of comparisons is {} and time taken is {:.4f}\".format(number_of_elements, avg, finaltime))\n",
    "\n",
    "IMsort_test()"
   ]
  },
  {
   "cell_type": "code",
   "execution_count": null,
   "metadata": {},
   "outputs": [],
   "source": [
    "def main():\n",
    "    return"
   ]
  },
  {
   "cell_type": "code",
   "execution_count": null,
   "metadata": {},
   "outputs": [],
   "source": [
    "main()"
   ]
  }
 ],
 "metadata": {
  "kernelspec": {
   "display_name": "Python 3.9.7 ('base')",
   "language": "python",
   "name": "python3"
  },
  "language_info": {
   "codemirror_mode": {
    "name": "ipython",
    "version": 3
   },
   "file_extension": ".py",
   "mimetype": "text/x-python",
   "name": "python",
   "nbconvert_exporter": "python",
   "pygments_lexer": "ipython3",
   "version": "3.9.7"
  },
  "orig_nbformat": 4,
  "vscode": {
   "interpreter": {
    "hash": "ac5911031131bbb6c20c46cf3f2517818ecf164a00ed6128eea5f8fed9e426fa"
   }
  }
 },
 "nbformat": 4,
 "nbformat_minor": 2
}
