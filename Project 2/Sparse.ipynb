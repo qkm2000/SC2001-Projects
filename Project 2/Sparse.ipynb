{
 "cells": [
  {
   "cell_type": "code",
   "execution_count": 55,
   "metadata": {},
   "outputs": [
    {
     "data": {
      "text/plain": [
       "[[9, 6, 9, 9, 7, 2, 7, 4, 5, 6],\n",
       " [8, 2, 2, 2, 2, 5, 8, 4, 3, 1],\n",
       " [1, 2, 1, 2, 8, 9, 8, 2, 4, 1],\n",
       " [4, 1, 3, 9, 6, 6, 7, 8, 2, 9],\n",
       " [9, 5, 1, 7, 9, 5, 6, 1, 5, 1],\n",
       " [4, 2, 9, 8, 6, 2, 9, 4, 6, 1],\n",
       " [9, 6, 5, 4, 6, 3, 1, 6, 7, 8],\n",
       " [5, 8, 4, 9, 3, 5, 2, 5, 1, 2],\n",
       " [4, 6, 5, 2, 5, 9, 3, 5, 2, 5],\n",
       " [5, 8, 8, 9, 6, 9, 2, 2, 8, 8]]"
      ]
     },
     "execution_count": 55,
     "metadata": {},
     "output_type": "execute_result"
    }
   ],
   "source": [
    "from random import choices, randint\n",
    "\n",
    "def openGraphFile(filename):\n",
    "    g = []\n",
    "    with open(\"km's test cases and results\\DenseGraph {}.txt\".format(filename)) as my_file:\n",
    "        for line in my_file:\n",
    "            line = line.lstrip('[')\n",
    "            line = line.rstrip(']\\n')\n",
    "            if(line == \"\"):\n",
    "                continue \n",
    "            if(not line[0].isdigit()):\n",
    "                continue\n",
    "            #print line, line.split(',')  # test\n",
    "            line_list = [int(x) for x in line.split(',')]\n",
    "            #print(line_list)\n",
    "            g.append(line_list)\n",
    "            \n",
    "    return g\n",
    "\n",
    "g= openGraphFile(\"10\")\n",
    "g"
   ]
  },
  {
   "cell_type": "code",
   "execution_count": 58,
   "metadata": {},
   "outputs": [],
   "source": [
    "\n",
    "def replaceSparseGraph(g):\n",
    "    options = [0,1]\n",
    "    weights = [80, 20]\n",
    "    for i in range(0,len(g)):\n",
    "        for j in range(0,len(g[i])):\n",
    "            # choose between yes or no (weighted choice?)\n",
    "            # if yes, insert\n",
    "            g[i][j] = 0 if choices(options, weights)[0] == 0 else g[i][j]\n",
    "    return g\n",
    "\n",
    "\n",
    "def replaceall(vertices):\n",
    "    g= openGraphFile(vertices)\n",
    "\n",
    "    g= replaceSparseGraph(g)\n",
    "\n",
    "    outfile = open(\"SparseGraph {}.txt\".format(vertices), \"w\")\n",
    "\n",
    "    for each in g:\n",
    "        outfile.write(str(each) + \"\\n\")\n",
    "    outfile.close()\n",
    "\n",
    "replaceall(10)\n",
    "replaceall(20)\n",
    "replaceall(40)\n",
    "replaceall(100)\n",
    "replaceall(500)\n",
    "replaceall(1000)\n",
    "replaceall(5000)"
   ]
  }
 ],
 "metadata": {
  "kernelspec": {
   "display_name": "Python 3.9.7",
   "language": "python",
   "name": "python3"
  },
  "language_info": {
   "codemirror_mode": {
    "name": "ipython",
    "version": 3
   },
   "file_extension": ".py",
   "mimetype": "text/x-python",
   "name": "python",
   "nbconvert_exporter": "python",
   "pygments_lexer": "ipython3",
   "version": "3.9.7"
  },
  "orig_nbformat": 4,
  "vscode": {
   "interpreter": {
    "hash": "9bc936ee5ff478d50fa25199f13fcff0aa3959f3ad3c3ff16ffbb4ba8e96fc7d"
   }
  }
 },
 "nbformat": 4,
 "nbformat_minor": 2
}
