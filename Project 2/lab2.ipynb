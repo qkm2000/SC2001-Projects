{
 "cells": [
  {
   "cell_type": "markdown",
   "metadata": {},
   "source": [
    "# Group 7 Lab 2"
   ]
  },
  {
   "cell_type": "markdown",
   "metadata": {},
   "source": [
    "***\n",
    "a) Suppose the input graph G = (V, E) is stored in an adjacency matrix and we \n",
    "use an array for the priority queue. Implement the Dijkstra’s algorithm using this \n",
    "setting and analyze its time complexity with respect to |V| and |E| both \n",
    "theoretically and empirically."
   ]
  },
  {
   "cell_type": "code",
   "execution_count": 31,
   "metadata": {},
   "outputs": [
    {
     "name": "stdout",
     "output_type": "stream",
     "text": [
      "(1, 20) (2, 30) (3, 50) (4, 40)\n",
      "1\n",
      "(2, 30) (3, 50) (4, 40)\n"
     ]
    }
   ],
   "source": [
    "# defining priority queue\n",
    "\n",
    "class PriorityQueue(object):\n",
    "    def __init__(self):\n",
    "        self.queue = []\n",
    " \n",
    "    def __str__(self):\n",
    "        return ' '.join([str(i) for i in self.queue])\n",
    " \n",
    "    # for checking if the queue is empty\n",
    "    def isEmpty(self):\n",
    "        return len(self.queue) == 0\n",
    " \n",
    "    # for inserting an element in the queue\n",
    "    def insert(self, data):\n",
    "        self.queue.append(data)\n",
    " \n",
    "    # for popping an element based on Priority\n",
    "    def delete(self):\n",
    "        try:\n",
    "            min_val = 0\n",
    "            for i in range(len(self.queue)):\n",
    "                if self.queue[i][1] < self.queue[min_val][1]:\n",
    "                    min_val = i\n",
    "            item = self.queue[min_val]\n",
    "            del self.queue[min_val]\n",
    "            return item\n",
    "        except IndexError:\n",
    "            print()\n",
    "            exit()\n",
    "\n",
    "def PriorityQueueTest():\n",
    "    pq = PriorityQueue()\n",
    "    pq.insert((1, 20))\n",
    "    pq.insert((2, 30))\n",
    "    pq.insert((3, 50))\n",
    "    pq.insert((4, 40))\n",
    "    print(pq)\n",
    "    print(pq.delete()[0])\n",
    "    print(pq)\n",
    "    \n",
    "PriorityQueueTest()"
   ]
  },
  {
   "cell_type": "code",
   "execution_count": 32,
   "metadata": {},
   "outputs": [
    {
     "name": "stdout",
     "output_type": "stream",
     "text": [
      "1 does not point to 1\n",
      "1 -> 2 with a weight of 5\n",
      "1 -> 3 with a weight of 1\n",
      "1 does not point to 4\n",
      "(1, 5) (2, 1)\n",
      "2 does not point to 1\n",
      "2 does not point to 2\n",
      "2 -> 3 with a weight of 7\n",
      "2 -> 4 with a weight of 2\n",
      "(1, 5) (2, 1) (2, 7) (3, 2)\n",
      "3 does not point to 1\n",
      "3 does not point to 2\n",
      "3 does not point to 3\n",
      "3 -> 4 with a weight of 4\n",
      "(1, 5) (2, 1) (2, 7) (3, 2) (3, 4)\n",
      "4 -> 1 with a weight of 3\n",
      "4 -> 2 with a weight of 1\n",
      "4 -> 3 with a weight of 7\n",
      "4 does not point to 4\n",
      "(1, 5) (2, 1) (2, 7) (3, 2) (3, 4) (0, 3) (1, 1) (2, 7)\n"
     ]
    }
   ],
   "source": [
    "# setting up graph\n",
    "# each vector's connections are captured here\n",
    "# for example, v1 is pointing towards v2 with a weight of 5\n",
    "# we assume v1 is the source\n",
    "v1 = [0, 5, 1, 0] # vertex 1\n",
    "v2 = [0, 0, 7, 2] # vertex 2\n",
    "v3 = [0, 0, 0, 4] # vertex 3\n",
    "v4 = [3, 1, 7, 0] # vertex 4\n",
    "\n",
    "# list for the actual graph\n",
    "G = [v1, v2, v3, v4]\n",
    "\n",
    "# checking if vertices have been visited\n",
    "# 0 = no\n",
    "# 1 = yes\n",
    "S = [1, 0, 0, 0]\n",
    "\n",
    "# predecessors\n",
    "pi = [1, 0, 0, 0]\n",
    "\n",
    "# distance\n",
    "D = [0, 0, 0, 0]\n",
    "\n",
    "# implementation of dijkstra's algorithm\n",
    "def dijkstra(G, S, pi, D):\n",
    "    Q = PriorityQueue()\n",
    "    for vertex in range(len(G)):\n",
    "        for i in range(len(G[vertex])):\n",
    "            if G[vertex][i] == 0:\n",
    "                print(\"{} does not point to {}\".format(vertex + 1, i + 1))\n",
    "            else:\n",
    "                print(\"{} -> {} with a weight of {}\".format(vertex + 1, i + 1, G[vertex][i]))\n",
    "                Q.insert((i, G[vertex][i]))\n",
    "        print(Q)\n",
    "    \n",
    "    # for each_vertex in G:\n",
    "    #     print(\"yes\")\n",
    "\n",
    "dijkstra(G, S, pi, D)\n",
    "\n",
    "# analysis of time complexity"
   ]
  },
  {
   "cell_type": "code",
   "execution_count": 24,
   "metadata": {},
   "outputs": [
    {
     "ename": "KeyError",
     "evalue": "0",
     "output_type": "error",
     "traceback": [
      "\u001b[1;31m---------------------------------------------------------------------------\u001b[0m",
      "\u001b[1;31mKeyError\u001b[0m                                  Traceback (most recent call last)",
      "\u001b[1;32m<ipython-input-24-eaa3c5f1b1f9>\u001b[0m in \u001b[0;36m<module>\u001b[1;34m\u001b[0m\n\u001b[0;32m      2\u001b[0m \u001b[0mminval\u001b[0m \u001b[1;33m=\u001b[0m \u001b[1;36m128\u001b[0m\u001b[1;33m\u001b[0m\u001b[1;33m\u001b[0m\u001b[0m\n\u001b[0;32m      3\u001b[0m \u001b[1;32mfor\u001b[0m \u001b[0mi\u001b[0m \u001b[1;32min\u001b[0m \u001b[0mrange\u001b[0m\u001b[1;33m(\u001b[0m\u001b[0mlen\u001b[0m\u001b[1;33m(\u001b[0m\u001b[0mx\u001b[0m\u001b[1;33m)\u001b[0m\u001b[1;33m)\u001b[0m\u001b[1;33m:\u001b[0m\u001b[1;33m\u001b[0m\u001b[1;33m\u001b[0m\u001b[0m\n\u001b[1;32m----> 4\u001b[1;33m     \u001b[1;32mif\u001b[0m \u001b[0mx\u001b[0m\u001b[1;33m[\u001b[0m\u001b[0mi\u001b[0m\u001b[1;33m]\u001b[0m\u001b[1;33m<\u001b[0m\u001b[0mminval\u001b[0m\u001b[1;33m:\u001b[0m\u001b[1;33m\u001b[0m\u001b[1;33m\u001b[0m\u001b[0m\n\u001b[0m\u001b[0;32m      5\u001b[0m         \u001b[0mminval\u001b[0m \u001b[1;33m=\u001b[0m \u001b[0mx\u001b[0m\u001b[1;33m[\u001b[0m\u001b[0mi\u001b[0m\u001b[1;33m]\u001b[0m\u001b[1;33m\u001b[0m\u001b[1;33m\u001b[0m\u001b[0m\n\u001b[0;32m      6\u001b[0m \u001b[0mminval\u001b[0m\u001b[1;33m\u001b[0m\u001b[1;33m\u001b[0m\u001b[0m\n",
      "\u001b[1;31mKeyError\u001b[0m: 0"
     ]
    }
   ],
   "source": [
    "x = {1:3, 2:2}\n",
    "minval = 128\n",
    "for i in range(len(x)):\n",
    "    if x[i]<minval:\n",
    "        minval = x[i]\n",
    "minval"
   ]
  },
  {
   "cell_type": "markdown",
   "metadata": {},
   "source": [
    "***\n",
    "b) Suppose the input graph G = (V, E) is stored in an array of adjacency lists and \n",
    "we use a minimizing heap for the priority queue. Implement the Dijkstra’s \n",
    "algorithm using this setting and analyze its time complexity with respect to |V| \n",
    "and |E| both theoretically and empirically. "
   ]
  },
  {
   "cell_type": "code",
   "execution_count": null,
   "metadata": {},
   "outputs": [],
   "source": [
    "# setting up graph\n",
    "# implementation of dijkstra's algorithm\n",
    "# analysis of time complexity"
   ]
  },
  {
   "cell_type": "markdown",
   "metadata": {},
   "source": [
    "***\n",
    "c) Compare the two implementations in (a) and (b). Discuss which implementation \n",
    "is better and in what circumstances. "
   ]
  }
 ],
 "metadata": {
  "kernelspec": {
   "display_name": "Python 3.8.8 ('base')",
   "language": "python",
   "name": "python3"
  },
  "language_info": {
   "codemirror_mode": {
    "name": "ipython",
    "version": 3
   },
   "file_extension": ".py",
   "mimetype": "text/x-python",
   "name": "python",
   "nbconvert_exporter": "python",
   "pygments_lexer": "ipython3",
   "version": "3.8.8"
  },
  "orig_nbformat": 4,
  "vscode": {
   "interpreter": {
    "hash": "25cb2dd36c8d5245723885b9a112f13605dd35ff8fb5fab271c6a70aa998b368"
   }
  }
 },
 "nbformat": 4,
 "nbformat_minor": 2
}
