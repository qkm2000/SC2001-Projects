{
 "cells": [
  {
   "cell_type": "markdown",
   "metadata": {},
   "source": [
    "# Group 7 Lab 2"
   ]
  },
  {
   "cell_type": "markdown",
   "metadata": {},
   "source": [
    "***\n",
    "a) Suppose the input graph G = (V, E) is stored in an adjacency matrix and we \n",
    "use an array for the priority queue. Implement the Dijkstra’s algorithm using this \n",
    "setting and analyze its time complexity with respect to |V| and |E| both \n",
    "theoretically and empirically."
   ]
  },
  {
   "cell_type": "code",
   "execution_count": null,
   "metadata": {},
   "outputs": [],
   "source": [
    "# setting up graph\n",
    "# each vector's connections are captured here\n",
    "# for example, v1 is pointing towards v2 with a weight of 5\n",
    "# we assume v1 is the source\n",
    "v1 = (1, [0, 5, 1, 0]) # vertex 1\n",
    "v2 = (2, [0, 0, 7, 2]) # vertex 2\n",
    "v3 = (3, [0, 0, 0, 4]) # vertex 3\n",
    "v4 = (4, [3, 1, 7, 0]) # vertex 4\n",
    "\n",
    "# list for the actual graph\n",
    "G = [v1, v2, v3, v4]\n",
    "\n",
    "# checking if vertices have been visited\n",
    "# 0 = no\n",
    "# 1 = yes\n",
    "S = [1, 0, 0, 0]\n",
    "\n",
    "# predecessors\n",
    "pi = [1, 0, 0, 0]\n",
    "\n",
    "# distance\n",
    "D = [0, 0, 0, 0]\n",
    "\n",
    "# implementation of dijkstra's algorithm\n",
    "def dijkstra(G, S, pi):\n",
    "    for each_vertex in G:\n",
    "        print(\"yes\")\n",
    "\n",
    "# analysis of time complexity"
   ]
  },
  {
   "cell_type": "markdown",
   "metadata": {},
   "source": [
    "***\n",
    "b) Suppose the input graph G = (V, E) is stored in an array of adjacency lists and \n",
    "we use a minimizing heap for the priority queue. Implement the Dijkstra’s \n",
    "algorithm using this setting and analyze its time complexity with respect to |V| \n",
    "and |E| both theoretically and empirically. "
   ]
  },
  {
   "cell_type": "code",
   "execution_count": null,
   "metadata": {},
   "outputs": [],
   "source": [
    "# setting up graph\n",
    "# implementation of dijkstra's algorithm\n",
    "# analysis of time complexity"
   ]
  },
  {
   "cell_type": "markdown",
   "metadata": {},
   "source": [
    "***\n",
    "c) Compare the two implementations in (a) and (b). Discuss which implementation \n",
    "is better and in what circumstances. "
   ]
  }
 ],
 "metadata": {
  "kernelspec": {
   "display_name": "Python 3.8.8 ('base')",
   "language": "python",
   "name": "python3"
  },
  "language_info": {
   "codemirror_mode": {
    "name": "ipython",
    "version": 3
   },
   "file_extension": ".py",
   "mimetype": "text/x-python",
   "name": "python",
   "nbconvert_exporter": "python",
   "pygments_lexer": "ipython3",
   "version": "3.8.8"
  },
  "orig_nbformat": 4,
  "vscode": {
   "interpreter": {
    "hash": "25cb2dd36c8d5245723885b9a112f13605dd35ff8fb5fab271c6a70aa998b368"
   }
  }
 },
 "nbformat": 4,
 "nbformat_minor": 2
}
