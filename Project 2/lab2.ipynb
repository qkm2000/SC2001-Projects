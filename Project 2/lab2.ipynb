{
 "cells": [
  {
   "cell_type": "markdown",
   "metadata": {},
   "source": [
    "# Group 7 Lab 2"
   ]
  },
  {
   "cell_type": "markdown",
   "metadata": {},
   "source": [
    "***\n",
    "a) Suppose the input graph G = (V, E) is stored in an adjacency matrix and we \n",
    "use an array for the priority queue. Implement the Dijkstra’s algorithm using this \n",
    "setting and analyze its time complexity with respect to |V| and |E| both \n",
    "theoretically and empirically."
   ]
  },
  {
   "cell_type": "code",
   "execution_count": 1,
   "metadata": {},
   "outputs": [],
   "source": [
    "# defining priority queue\n",
    "\n",
    "class PriorityQueue(object):\n",
    "    def __init__(self):\n",
    "        self.queue = []\n",
    "    \n",
    "    def __str__(self):\n",
    "        return ' '.join([str(i) for i in self.queue])\n",
    "    \n",
    "    # if empty return True\n",
    "    def isEmpty(self):\n",
    "        return len(self.queue) == 0\n",
    "    \n",
    "    # vertex is stored with distance\n",
    "    # vertex 2 with distance 20: (2, 20)\n",
    "    def insert(self, vertex):\n",
    "        self.queue.append(vertex)\n",
    "    \n",
    "    def get_smallest(self):\n",
    "        min_val = 1e7\n",
    "        min_index = 0\n",
    "        for i in range(len(self.queue)):\n",
    "            if self.queue[i][1]<min_val:\n",
    "                min_val = self.queue[i][1]\n",
    "                min_index = i\n",
    "        smallest = self.queue[min_index]\n",
    "        del(self.queue[min_index])\n",
    "        return smallest\n",
    "\n",
    "    def remove_vertex(self, vertex):\n",
    "        for i in range(len(self.queue)):\n",
    "            if self.queue[i][0] == vertex:\n",
    "                item = self.queue[i]\n",
    "                del(self.queue[i])\n",
    "                return item"
   ]
  },
  {
   "cell_type": "code",
   "execution_count": 2,
   "metadata": {},
   "outputs": [],
   "source": [
    "class Graph(object):\n",
    "    def __init__(self, vertices):\n",
    "        # self.V is the number of vertices\n",
    "        # self.graph is the adjacency matrix\n",
    "        self.V = vertices\n",
    "        self.graph = [[0 for column in range(vertices+1)]\n",
    "                      for row in range(vertices+1)]\n",
    "    \n",
    "    def dijkstra(self, src):\n",
    "        # since source is the vertex num, we need to -1\n",
    "        src = src - 1\n",
    "        \n",
    "        # set up distance = inf except source = 0\n",
    "        dist = [1e7] * self.V\n",
    "        dist[src] = 0\n",
    "        \n",
    "        # set up predecessor list\n",
    "        pred = [-1] * self.V\n",
    "        pred[src] = src + 1\n",
    "        \n",
    "        # set up sols\n",
    "        sols = [False] * self.V\n",
    "        sols[src] = True\n",
    "        \n",
    "        # set up priority queue\n",
    "        Q = PriorityQueue()\n",
    "        \n",
    "        # flag for first run\n",
    "        flag = True\n",
    "        \n",
    "        # for each adjacent vertex that is not 0, insert into queue\n",
    "        for i in range(self.V):\n",
    "            if self.graph[src][i] != 0:\n",
    "                Q.insert((i+1, self.graph[0][i]))\n",
    "            \n",
    "        # while queue not empty:\n",
    "        while Q.isEmpty() == False:\n",
    "            # u is the next vertex with smallest distance\n",
    "            if flag == True:\n",
    "                u = src\n",
    "                flag = False\n",
    "            else:\n",
    "                u = Q.get_smallest()[0]-1\n",
    "            \n",
    "            # putting u into solution set\n",
    "            sols[u] = True\n",
    "            \n",
    "            # for each vertex adjacent to u (self.graph[] != 0)\n",
    "            # that is not in solution set and (S[] == False)\n",
    "            # if new distance is smaller than previous distance (d[v] < d[u] + self.graph[u][v])\n",
    "            for v in range(self.V):\n",
    "                if self.graph[u][v] != 0 and sols[v] == False and dist[v] > dist[u] + self.graph[u][v]:\n",
    "                    Q.remove_vertex(v)\n",
    "                    dist[v] = dist[u] + self.graph[u][v]\n",
    "                    pred[v] = u + 1\n",
    "                    Q.insert((v, dist[v]))\n",
    "            # print(dist)\n",
    "        print(\"Predecessors: {}\".format(pred))\n",
    "        print(\"Distance from source: {}\".format(dist))\n",
    "\n",
    "\n",
    "def graphtest():\n",
    "    # g = Graph(4)\n",
    "    # v1 = [0, 5, 1, 0] # vertex 1\n",
    "    # v2 = [0, 0, 7, 2] # vertex 2\n",
    "    # v3 = [0, 0, 0, 4] # vertex 3\n",
    "    # v4 = [3, 1, 7, 0] # vertex 4\n",
    "    # g.graph = [v1, v2, v3, v4]\n",
    "    # g.dijkstra(4)\n",
    "    \n",
    "    g = Graph(5)\n",
    "    v1 = [0, 2, 2, 1, 0]\n",
    "    v2 = [1, 0, 0, 0, 4]\n",
    "    v3 = [0, 2, 0, 3, 1]\n",
    "    v4 = [0, 2, 0, 0, 1]\n",
    "    v5 = [0, 3, 0, 0, 0]\n",
    "    g.graph = [v1, v2, v3, v4, v5]\n",
    "    g.dijkstra(5)"
   ]
  },
  {
   "cell_type": "code",
   "execution_count": 16,
   "metadata": {},
   "outputs": [
    {
     "name": "stdout",
     "output_type": "stream",
     "text": [
      "[0, 3, 5, 1, 0]\n",
      "[5, 0, 3, 1, 4]\n",
      "[5, 2, 0, 2, 4]\n",
      "[4, 2, 0, 0, 0]\n",
      "[3, 3, 2, 1, 0]\n",
      "Predecessors: [5, 5, 5, 5, 5]\n",
      "Distance from source: [3, 3, 2, 1, 0]\n",
      "Time taken = 0.0s\n"
     ]
    },
    {
     "data": {
      "text/plain": [
       "<__main__.Graph at 0x2a73f878850>"
      ]
     },
     "execution_count": 16,
     "metadata": {},
     "output_type": "execute_result"
    }
   ],
   "source": [
    "import random\n",
    "from time import time\n",
    "def create_graphs():\n",
    "    # get number of vertices\n",
    "    while True:\n",
    "        try:\n",
    "            vertices = int(input(\"Enter the number of vertices you want\"))\n",
    "            if vertices <= 0:\n",
    "                raise ValueError\n",
    "            break\n",
    "        except ValueError:\n",
    "            print(\"Invalid input\")\n",
    "    \n",
    "    # get max weight\n",
    "    while True:\n",
    "        try:\n",
    "            weight = int(input(\"Enter the max weight you want\"))\n",
    "            if weight <= 0 or weight >= 10:\n",
    "                raise ValueError\n",
    "            break\n",
    "        except ValueError:\n",
    "            print(\"Invalid input\")\n",
    "    \n",
    "    # get starting vertex\n",
    "    while True:\n",
    "        try:\n",
    "            src = int(input(\"Which vertex do you want to start from?\"))\n",
    "            if src <= 0 or src > vertices:\n",
    "                raise ValueError\n",
    "            break\n",
    "        except ValueError:\n",
    "            print(\"Invalid input\")\n",
    "    \n",
    "    x = [[random.randint(0, weight) for i in range(vertices)] for i in range(vertices)]\n",
    "    for i in range(len(x)):\n",
    "        x[i][i] = 0\n",
    "    for i in range(len(x)):\n",
    "        print(x[i])\n",
    "    g = Graph(vertices)\n",
    "    g.graph = x\n",
    "    \n",
    "    start = time()\n",
    "    g.dijkstra(src)\n",
    "    end = time() - start\n",
    "    print(\"Time taken = {}s\".format(end))\n",
    "        \n",
    "    return g\n",
    "\n",
    "create_graphs()"
   ]
  },
  {
   "cell_type": "code",
   "execution_count": null,
   "metadata": {},
   "outputs": [],
   "source": [
    "from time import time\n",
    "\n",
    "def timer():\n",
    "    start = time()\n",
    "    end = time() - start\n",
    "    print(\"Time taken = {}s\".format(end))"
   ]
  },
  {
   "cell_type": "markdown",
   "metadata": {},
   "source": [
    "***\n",
    "b) Suppose the input graph G = (V, E) is stored in an array of adjacency lists and \n",
    "we use a minimizing heap for the priority queue. Implement the Dijkstra’s \n",
    "algorithm using this setting and analyze its time complexity with respect to |V| \n",
    "and |E| both theoretically and empirically. "
   ]
  },
  {
   "cell_type": "code",
   "execution_count": null,
   "metadata": {},
   "outputs": [],
   "source": [
    "# setting up graph\n",
    "# implementation of dijkstra's algorithm\n",
    "# analysis of time complexity"
   ]
  },
  {
   "cell_type": "markdown",
   "metadata": {},
   "source": [
    "***\n",
    "c) Compare the two implementations in (a) and (b). Discuss which implementation \n",
    "is better and in what circumstances. "
   ]
  }
 ],
 "metadata": {
  "kernelspec": {
   "display_name": "Python 3.9.7 ('base')",
   "language": "python",
   "name": "python3"
  },
  "language_info": {
   "codemirror_mode": {
    "name": "ipython",
    "version": 3
   },
   "file_extension": ".py",
   "mimetype": "text/x-python",
   "name": "python",
   "nbconvert_exporter": "python",
   "pygments_lexer": "ipython3",
   "version": "3.9.7"
  },
  "orig_nbformat": 4,
  "vscode": {
   "interpreter": {
    "hash": "ac5911031131bbb6c20c46cf3f2517818ecf164a00ed6128eea5f8fed9e426fa"
   }
  }
 },
 "nbformat": 4,
 "nbformat_minor": 2
}
