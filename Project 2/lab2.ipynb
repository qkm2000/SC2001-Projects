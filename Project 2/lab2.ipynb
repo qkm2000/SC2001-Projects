{
 "cells": [
  {
   "cell_type": "markdown",
   "metadata": {},
   "source": [
    "# Group 7 Lab 2"
   ]
  },
  {
   "cell_type": "markdown",
   "metadata": {},
   "source": [
    "***\n",
    "setting up graph"
   ]
  },
  {
   "cell_type": "code",
   "execution_count": 1,
   "metadata": {},
   "outputs": [],
   "source": [
    "# some code"
   ]
  },
  {
   "cell_type": "markdown",
   "metadata": {},
   "source": [
    "***\n",
    "a) Suppose the input graph G = (V, E) is stored in an adjacency matrix and we \n",
    "use an array for the priority queue. Implement the Dijkstra’s algorithm using this \n",
    "setting and analyze its time complexity with respect to |V| and |E| both \n",
    "theoretically and empirically."
   ]
  },
  {
   "cell_type": "code",
   "execution_count": null,
   "metadata": {},
   "outputs": [],
   "source": [
    "# some code"
   ]
  },
  {
   "cell_type": "markdown",
   "metadata": {},
   "source": [
    "***\n",
    "b) Suppose the input graph G = (V, E) is stored in an array of adjacency lists and \n",
    "we use a minimizing heap for the priority queue. Implement the Dijkstra’s \n",
    "algorithm using this setting and analyze its time complexity with respect to |V| \n",
    "and |E| both theoretically and empirically. "
   ]
  },
  {
   "cell_type": "code",
   "execution_count": null,
   "metadata": {},
   "outputs": [],
   "source": [
    "# some code"
   ]
  },
  {
   "cell_type": "markdown",
   "metadata": {},
   "source": [
    "***\n",
    "c) Compare the two implementations in (a) and (b). Discuss which implementation \n",
    "is better and in what circumstances. "
   ]
  },
  {
   "cell_type": "code",
   "execution_count": null,
   "metadata": {},
   "outputs": [],
   "source": [
    "# some code"
   ]
  },
  {
   "cell_type": "markdown",
   "metadata": {},
   "source": [
    "***\n",
    "conclusion"
   ]
  }
 ],
 "metadata": {
  "kernelspec": {
   "display_name": "Python 3.8.8 ('base')",
   "language": "python",
   "name": "python3"
  },
  "language_info": {
   "codemirror_mode": {
    "name": "ipython",
    "version": 3
   },
   "file_extension": ".py",
   "mimetype": "text/x-python",
   "name": "python",
   "nbconvert_exporter": "python",
   "pygments_lexer": "ipython3",
   "version": "3.8.8"
  },
  "orig_nbformat": 4,
  "vscode": {
   "interpreter": {
    "hash": "25cb2dd36c8d5245723885b9a112f13605dd35ff8fb5fab271c6a70aa998b368"
   }
  }
 },
 "nbformat": 4,
 "nbformat_minor": 2
}
